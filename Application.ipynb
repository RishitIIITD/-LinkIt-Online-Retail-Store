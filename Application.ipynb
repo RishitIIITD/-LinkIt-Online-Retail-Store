{
 "cells": [
  {
   "cell_type": "code",
   "execution_count": null,
   "id": "e7e2fcaa-0c40-4be9-8eb9-919c7272dc93",
   "metadata": {},
   "outputs": [
    {
     "name": "stdout",
     "output_type": "stream",
     "text": [
      "(1, 'John', 'Smith', '1234567890', datetime.date(1990, 1, 1), 'Boulevard Street', 'New York', 'NY', 100)\n",
      "(2, 'Steve', 'Rogers', '0123456789', datetime.date(1918, 7, 4), 'President Street', 'Los Angeles', 'CA', 200)\n",
      "(3, 'Tony', 'Stark', '9876543210', datetime.date(1970, 5, 29), 'Stark Tower', 'Washington City', 'WA', 200)\n",
      "(4, 'Shakti', 'Man', '0987654321', datetime.date(1997, 9, 13), 'Borivali', 'Mumbai', 'MH', 100)\n",
      "(5, 'Leslie', 'Thompson', '1485963217', datetime.date(1995, 2, 5), '5677 Strong Street', 'Omaha', 'NB', 0)\n",
      "(6, 'William', 'Patterson', '7851369452', datetime.date(1998, 10, 24), '3827 Devon', 'Northfield', 'FL', 0)\n",
      "(7, 'George', 'Vanauf', '4563987210', datetime.date(1970, 12, 31), '2837 Greenway', 'Grove', 'AR', 100)\n",
      "(8, 'Walter', 'White', '7521036950', datetime.date(1965, 5, 4), '304 Negro Arroyo Lane', 'Albequerque', 'NM', 200)\n",
      "(9, 'Foon Yue', 'Tseng', '9841023657', datetime.date(2001, 9, 5), '382 Wildwood', 'Sheldon', 'CO', 100)\n",
      "(10, 'Pamela', 'Castillo', '7512024530', datetime.date(1992, 6, 4), '838 Ridgeland', 'Altonville', 'KS', 0)\n",
      "\n",
      "WELCOME TO LINKIT ONLINE RETAIL STORE!!!\n",
      "\n",
      "1. Enter as administrator\n",
      "2. Enter as a customer\n",
      "3. Exit\n",
      "\n"
     ]
    },
    {
     "name": "stdin",
     "output_type": "stream",
     "text": [
      "Enter a choice:  2\n",
      "Enter your customer ID:  2\n"
     ]
    },
    {
     "name": "stdout",
     "output_type": "stream",
     "text": [
      "\n",
      "Welcome!!!\n",
      "(2, 'Steve', 'Rogers', '0123456789', datetime.date(1918, 7, 4), 'President Street', 'Los Angeles', 'CA', 200)\n",
      "\n",
      "1. View cart\n",
      "2. View products and place order\n",
      "\n"
     ]
    },
    {
     "name": "stdin",
     "output_type": "stream",
     "text": [
      "Enter your choice:  2\n"
     ]
    },
    {
     "name": "stdout",
     "output_type": "stream",
     "text": [
      "\n",
      "(1, 'Soap', 30, Decimal('10.00'), Decimal('1.9'), datetime.date(2024, 3, 20), 2)\n",
      "(2, 'Shoes', 38, Decimal('26.78'), Decimal('0.0'), datetime.date(2024, 3, 20), 4)\n",
      "(3, 'Wooden table', 8, Decimal('150.36'), Decimal('0.0'), datetime.date(2024, 3, 20), 1)\n",
      "(4, 'Maggi', 68, Decimal('12.25'), Decimal('1.9'), datetime.date(2024, 3, 20), 3)\n",
      "(5, 'Hoodie', 24, Decimal('110.45'), Decimal('3.6'), datetime.date(2024, 3, 20), 5)\n",
      "(6, 'Cooking Oil', 57, Decimal('20.69'), Decimal('1.5'), datetime.date(2024, 3, 20), 6)\n",
      "(7, 'NERF Toy Gun set', 26, Decimal('50.50'), Decimal('1.6'), datetime.date(2024, 3, 20), 7)\n",
      "(8, 'Shaving Kit', 23, Decimal('30.14'), Decimal('3.8'), datetime.date(2024, 3, 20), 8)\n",
      "(9, 'Birthday Card', 57, Decimal('11.79'), Decimal('2.1'), datetime.date(2024, 3, 20), 9)\n",
      "(10, 'Chocos Large Pack', 45, Decimal('18.99'), Decimal('2.3'), datetime.date(2024, 3, 20), 10)\n",
      "\n"
     ]
    },
    {
     "name": "stdin",
     "output_type": "stream",
     "text": [
      "Enter the product ID of the product you want to order:  3\n"
     ]
    },
    {
     "name": "stdout",
     "output_type": "stream",
     "text": [
      "\n",
      "\n"
     ]
    },
    {
     "name": "stdin",
     "output_type": "stream",
     "text": [
      "Enter quantity to order:  1\n"
     ]
    },
    {
     "name": "stdout",
     "output_type": "stream",
     "text": [
      "1 units of product ID 3 added to cart!\n"
     ]
    }
   ],
   "source": [
    "import mysql.connector\n",
    "\n",
    "db=mysql.connector.connect(\n",
    "    user=\"root\",\n",
    "    host=\"localhost\",\n",
    "    password=\"Rishit@2003#\",\n",
    "    port=\"3306\",\n",
    "    database=\"store\"\n",
    ")\n",
    "\n",
    "mycursor=db.cursor(buffered=True)\n",
    "\n",
    "mycursor.execute(\"SELECT * FROM store.customers;\")\n",
    "\n",
    "for i in mycursor:\n",
    "    print(i)\n",
    "\n",
    "print()\n",
    "print(\"WELCOME TO LINKIT ONLINE RETAIL STORE!!!\")\n",
    "print()\n",
    "\n",
    "print(\"1. Enter as administrator\")\n",
    "print(\"2. Enter as a customer\")\n",
    "print(\"3. Exit\")\n",
    "print()\n",
    "\n",
    "choice=int(input(\"Enter a choice: \"))\n",
    "\n",
    "if (choice==3):\n",
    "    print(\"THANK YOU FOR SHOPPING WITH US!!!\")\n",
    "elif(choice==1):\n",
    "    passwd=input(\"Enter password: \")\n",
    "    mycursor.execute(\"SELECT password FROM admins;\")\n",
    "    found=False\n",
    "    for i in mycursor:\n",
    "        if passwd in i:\n",
    "            found=True\n",
    "            print()\n",
    "            print(\"You have entered as an administrator\")\n",
    "            print(\"You can perform customer or inventory analysis\")\n",
    "            print()\n",
    "            dict={1:\"customers\", 2:\"products\", 3:\"shippers\", 4:\"vendors\", 5:\"orders\", 6:\"reviews\"}\n",
    "            for i,j in dict.items():\n",
    "                print(i,\". Get \",j,\" data\",sep='')\n",
    "            print()\n",
    "            data=int(input(\"Enter your choice: \"))\n",
    "            print()\n",
    "            if (1<=data<=6):\n",
    "                mycursor.execute(f\"SELECT * FROM {dict[data]};\")\n",
    "                for i in mycursor:\n",
    "                    print(i)\n",
    "            else:\n",
    "                print(\"Wrong input\")\n",
    "    if (found==False):\n",
    "        print(\"Wrong password\")\n",
    "elif (choice==2):\n",
    "    id=int(input(\"Enter your customer ID: \"))\n",
    "    mycursor.execute(\"SELECT customer_id FROM customers\")\n",
    "    found_1=False\n",
    "    for i in mycursor:\n",
    "        if id in i:\n",
    "            found_1=True\n",
    "            print()\n",
    "            print(\"Welcome!!!\")\n",
    "            mycursor.execute(f\"SELECT * FROM customers WHERE customer_id={id};\")\n",
    "            for i in mycursor:\n",
    "                print(i)\n",
    "            print()\n",
    "            print(\"1. View cart\")\n",
    "            print(\"2. View products and place order\")\n",
    "            print()\n",
    "            ch=int(input(\"Enter your choice: \"))\n",
    "            print()\n",
    "            if (1<=ch<=2):\n",
    "                if (ch==1):\n",
    "                    mycursor.execute(f\"SELECT product_id, product_name, quantity, unit_price, total_price_per_product FROM carts WHERE customer_id={id};\")\n",
    "                    for i in mycursor:\n",
    "                        print(i)\n",
    "                    print()\n",
    "                elif (ch==2):\n",
    "                    mycursor.execute(\"SELECT * FROM products;\")\n",
    "                    for i in mycursor:\n",
    "                        print(i)\n",
    "                    print()\n",
    "                    prod=int(input(\"Enter the product ID of the product you want to order: \"))\n",
    "                    print()\n",
    "                    mycursor.execute(\"SELECT product_id FROM products;\")\n",
    "                    print()\n",
    "                    found_2=False\n",
    "                    for i in mycursor:\n",
    "                        if prod in i:\n",
    "                            found_2=True\n",
    "                            quant=int(input(\"Enter quantity to order: \"))\n",
    "                            mycursor.execute(f\"SELECT quantity_in_stock FROM products WHERE product_id={prod};\")\n",
    "                            stock=()\n",
    "                            for i in mycursor:\n",
    "                                stock+=i\n",
    "                            if (quant<=0):\n",
    "                                print(\"Invalid quantities cannot be added to the cart!!\")\n",
    "                            elif (quant>stock[0]):\n",
    "                                print(\"Not enough quantity in stock\")\n",
    "                            else:\n",
    "                                print(quant,\"units of product ID\",prod,\"added to cart!\")\n",
    "                                mycursor.execute(f\"INSERT INTO carts (customer_id, product_id, product_name, quantity, unit_price) VALUES ({id}, {prod}, (SELECT p.name FROM products p WHERE p.product_id={prod}), {quant}, (SELECT p.unit_price FROM products p WHERE p.product_id={prod}));\")\n",
    "                                mycursor.execute(f\"UPDATE products SET quantity_in_stock=quantity_in_stock-{quant} WHERE product_id={prod};\")\n",
    "                                print(\"This is your cart:\\n\")\n",
    "                                mycursor.execute(f\"SELECT product_id, product_name, quantity, unit_price, total_price_per_product FROM carts WHERE customer_id={id};\")\n",
    "                                for i in mycursor:        # SQL commands are working here, but not in workbench\n",
    "                                    print(i)\n",
    "                                print()\n",
    "                                print(\"1. Proceed to payment and purchase all the items in the cart\")\n",
    "                                print(\"2. Modify cart\")\n",
    "                                print()\n",
    "                                choose=int(input(\"Enter your choice: \"))\n",
    "                                if (choose==1):\n",
    "                                    mycursor.execute(\"SELECT shipper_id FROM shippers\")\n",
    "                                    shipper=()\n",
    "                                    for i in mycursor:\n",
    "                                        shipper+=i\n",
    "                                    for i in shipper:\n",
    "                                        print(i)\n",
    "                    if (found_2==False):\n",
    "                        print(\"Wrong input\")\n",
    "            else:\n",
    "                print(\"Wrong input\")\n",
    "    if (found_1==False):\n",
    "        print()\n",
    "        print(\"The customer ID\",id,\"does not exist\")\n",
    "        print(\"Kindly register your account with the administrator\")\n",
    "        print()\n",
    "else:\n",
    "    print(\"Wrong input\")"
   ]
  },
  {
   "cell_type": "code",
   "execution_count": null,
   "id": "076e8b52-b173-4e58-8346-fa5f27bb361b",
   "metadata": {},
   "outputs": [],
   "source": []
  }
 ],
 "metadata": {
  "kernelspec": {
   "display_name": "Python 3 (ipykernel)",
   "language": "python",
   "name": "python3"
  },
  "language_info": {
   "codemirror_mode": {
    "name": "ipython",
    "version": 3
   },
   "file_extension": ".py",
   "mimetype": "text/x-python",
   "name": "python",
   "nbconvert_exporter": "python",
   "pygments_lexer": "ipython3",
   "version": "3.11.7"
  }
 },
 "nbformat": 4,
 "nbformat_minor": 5
}
